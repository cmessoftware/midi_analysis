{
 "cells": [
  {
   "cell_type": "markdown",
   "id": "91483285",
   "metadata": {},
   "source": [
    "# Análisis de MIDI en R (Jupyter)\n",
    "\n",
    "Notebook generado a partir de tu script original, separando cada bloque por celdas.\n",
    "\n",
    "**Requisitos previos**: tener instalado el kernel de R para Jupyter (IRkernel) y Jupyter Lab/Notebook.\n"
   ]
  },
  {
   "cell_type": "code",
   "execution_count": null,
   "id": "3d97f860-0b52-425e-ad1f-d41ed92157ab",
   "metadata": {},
   "outputs": [],
   "source": [
    "# 1) Crear entorno\n",
    "# Por compatibilida de paquetes de R se debeusar python 3.11 en jupyter.\n",
    "#mamba create -n r-jupyter -c conda-forge r-base r-irkernel jupyterlab\n",
    "\n",
    "# 2) Activar entorno\n",
    "#mamba activate r-jupyter\n",
    "\n",
    "# 3) (Opcional pero útil) instalar herramientas nativas que a veces piden paquetes R\n",
    "#    En Linux/macOS te evita dolor de cabeza con compilaciones.\n",
    "#mamba install -c conda-forge pkg-config libsndfile fluidsynth\n",
    "\n",
    "# 4) Lanzar Jupyter\n",
    "#jupyter lab\n"
   ]
  },
  {
   "cell_type": "code",
   "execution_count": 2,
   "id": "becf308a",
   "metadata": {},
   "outputs": [
    {
     "ename": "ERROR",
     "evalue": "Error in iinstall.packages(\"IRkernel\"): could not find function \"iinstall.packages\"\n",
     "output_type": "error",
     "traceback": [
      "Error in iinstall.packages(\"IRkernel\"): could not find function \"iinstall.packages\"\nTraceback:\n"
     ]
    }
   ],
   "source": [
    "# Instalar paquetes requeridos (ejecutar solo la primera vez)\n",
    "iinstall.packages(\"IRkernel\")\n",
    "IRkernel::installspec(name = \"ir-r-jupyter311\", displayname = \"R (r-jupyter311)\")\n",
    "\n",
    "install.packages(\"dplyr\")\n",
    "install.packages(\"fluidsynth\", repos = \"https://ropensci.r-universe.dev\")\n",
    "library(dplyr); library(fluidsynth)"
   ]
  },
  {
   "cell_type": "code",
   "execution_count": null,
   "id": "9c5cb98e",
   "metadata": {},
   "outputs": [],
   "source": [
    "# Cargar librerías\n",
    "library(fluidsynth)\n",
    "library(dplyr)\n"
   ]
  },
  {
   "cell_type": "code",
   "execution_count": null,
   "id": "4012f72c",
   "metadata": {},
   "outputs": [],
   "source": [
    "# Leer el archivo MIDI y convertirlo en dataframe\n",
    "# Ajustá la ruta del archivo según corresponda\n",
    "midi_df <- midi_read(\"mz_311_1.mid\")\n",
    "str(midi_df)\n"
   ]
  },
  {
   "cell_type": "code",
   "execution_count": null,
   "id": "f6a0e4cb",
   "metadata": {},
   "outputs": [],
   "source": [
    "# Filtrar el dataframe y quedarse sólo con los eventos de notas\n",
    "ev_notes <- midi_df %>%\n",
    "  dplyr::filter(event %in% c(\"NOTE_ON\", \"NOTE_OFF\")) %>%\n",
    "  dplyr::mutate(\n",
    "    is_on  = (event == \"NOTE_ON\"  & param2 > 0),\n",
    "    is_off = (event == \"NOTE_OFF\" | (event == \"NOTE_ON\" & param2 == 0))\n",
    "  ) %>%\n",
    "  dplyr::arrange(channel, param1, tick)   # ordenar por canal, pitch y tiempo\n",
    "\n",
    "head(ev_notes)\n"
   ]
  },
  {
   "cell_type": "code",
   "execution_count": null,
   "id": "3128a9e3",
   "metadata": {},
   "outputs": [],
   "source": [
    "# 3) Reconstruir las notas: para cada ON buscar el primer OFF posterior\n",
    "notes <- ev_notes %>%\n",
    "  dplyr::group_by(channel, pitch = param1) %>%\n",
    "  dplyr::arrange(tick, .by_group = TRUE) %>%\n",
    "  reframe({\n",
    "    on_idx  <- which(is_on)   # posiciones de filas donde la nota se prendió\n",
    "    off_idx <- which(is_off)  # posiciones de filas donde la nota se apagó\n",
    "    \n",
    "    if (length(on_idx) == 0) return(NULL)\n",
    "    \n",
    "    rows <- lapply(on_idx, function(i){\n",
    "      # buscar el primer \"apagado\" después de este \"encendido\"\n",
    "      k_rel <- which(off_idx > i)[1]   # índice relativo dentro de off_idx\n",
    "      if (is.na(k_rel)) return(NULL)   # no hay OFF posterior, se descarta esa nota\n",
    "      j <- off_idx[k_rel]              # índice absoluto de ese OFF en el dataframe del grupo\n",
    "      \n",
    "      tibble(\n",
    "        tick_on  = tick[i],\n",
    "        tick_off = tick[j],\n",
    "        dur_ticks = tick[j] - tick[i],\n",
    "        velocity  = param2[i]\n",
    "      )\n",
    "    })\n",
    "    bind_rows(rows)\n",
    "  }) %>%\n",
    "  dplyr::ungroup()\n",
    "\n",
    "head(notes)\n"
   ]
  },
  {
   "cell_type": "code",
   "execution_count": null,
   "id": "727d8d3d",
   "metadata": {},
   "outputs": [],
   "source": [
    "# Resumir la pieza en una sola fila para entrenar al modelo\n",
    "features <- notes %>%\n",
    "  summarise(\n",
    "    pitch_mean = mean(pitch, na.rm = TRUE),  # promedio de altura\n",
    "    pitch_sd   = sd(pitch, na.rm = TRUE),    # cuánto varían las alturas\n",
    "    vel_mean   = mean(velocity, na.rm = TRUE),  # intensidad media\n",
    "    vel_sd     = sd(velocity, na.rm = TRUE),    # variación de intensidades\n",
    "    dur_mean   = mean(dur_ticks, na.rm = TRUE), # duración promedio de las notas\n",
    "    dur_sd     = sd(dur_ticks, na.rm = TRUE),   # variación de duraciones\n",
    "    n_notes    = dplyr::n()                     # cantidad total de notas reconstruidas\n",
    "  )\n",
    "\n",
    "features\n"
   ]
  },
  {
   "cell_type": "markdown",
   "id": "6091d56f",
   "metadata": {},
   "source": [
    "### Nota opcional sobre *pitch bend*\n",
    "Si tu dataframe `midi_df` incluye eventos de **pitch bend** (a veces etiquetados como `PITCH_BEND`, `PITCHWHEEL`, o similares), podés agregarlos en un flujo aparte y fusionarlos luego por canal/tiempo si necesitás capturar desafinaciones microtonales.\n"
   ]
  }
 ],
 "metadata": {
  "kernelspec": {
   "display_name": "R",
   "language": "R",
   "name": "ir"
  },
  "language_info": {
   "codemirror_mode": "r",
   "file_extension": ".r",
   "mimetype": "text/x-r-source",
   "name": "R",
   "pygments_lexer": "r",
   "version": "4.5.1"
  }
 },
 "nbformat": 4,
 "nbformat_minor": 5
}

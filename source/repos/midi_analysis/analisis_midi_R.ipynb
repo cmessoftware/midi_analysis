{
 "cells": [
  {
   "cell_type": "markdown",
   "id": "91483285",
   "metadata": {},
   "source": [
    "# Análisis de MIDI con Detección de Notas Desafinadas\n",
    "\n",
    "Este notebook implementa un análisis completo de archivos MIDI incluyendo:\n",
    "- Extracción y procesamiento de notas\n",
    "- Detección de notas potencialmente desafinadas\n",
    "- Análisis exploratorio de datos (EDA)\n",
    "- Modelo de Machine Learning con Random Forest\n",
    "\n",
    "**Requisitos**: R con los paquetes `fluidsynth`, `dplyr`, `ggplot2`, `randomForest`, `caret`, `pROC`, `corrplot`"
   ]
  },
  {
   "cell_type": "markdown",
   "id": "7c07f88d",
   "metadata": {},
   "source": [
    "## Instrucciones para Solucionar Problemas del Kernel\n",
    "\n",
    "Si el kernel de R no inicia correctamente, sigue estos pasos:\n",
    "\n",
    "### Opción 1: Reiniciar el Kernel\n",
    "1. Presiona `Ctrl+Shift+P` (Cmd+Shift+P en Mac)\n",
    "2. Busca \"Jupyter: Restart Kernel\"\n",
    "3. Selecciona el kernel de R\n",
    "\n",
    "### Opción 2: Seleccionar Kernel Manualmente\n",
    "1. Haz clic en \"Select Kernel\" en la esquina superior derecha\n",
    "2. Busca \"R\" en la lista de kernels disponibles\n",
    "3. Si no aparece R, selecciona \"Install/Enable suggested extensions\"\n",
    "\n",
    "### Opción 3: Ejecutar desde Terminal R\n",
    "Si el notebook no funciona, puedes ejecutar el código directamente en R:\n",
    "```\n",
    "# En PowerShell:\n",
    "& \"C:\\Program Files\\R\\R-4.5.1\\bin\\Rscript.exe\" proto2.R\n",
    "```\n",
    "\n",
    "---"
   ]
  },
  {
   "cell_type": "code",
   "execution_count": null,
   "id": "3d97f860-0b52-425e-ad1f-d41ed92157ab",
   "metadata": {
    "vscode": {
     "languageId": "r"
    }
   },
   "outputs": [],
   "source": [
    "# Configuración inicial y verificación del entorno\n",
    "cat(\"=== VERIFICACIÓN DEL ENTORNO R ===\\n\")\n",
    "cat(\"Versión de R:\", R.version.string, \"\\n\")\n",
    "cat(\"Directorio de trabajo:\", getwd(), \"\\n\")\n",
    "\n",
    "# Verificar que el archivo MIDI existe\n",
    "if (file.exists(\"mz_311_1.mid\")) {\n",
    "  cat(\"✅ Archivo MIDI encontrado: mz_311_1.mid\\n\")\n",
    "} else {\n",
    "  cat(\"❌ Archivo MIDI no encontrado. Verificar que 'mz_311_1.mid' esté en el directorio.\\n\")\n",
    "}"
   ]
  },
  {
   "cell_type": "code",
   "execution_count": null,
   "id": "6464d989-ca8d-4749-b5ac-b519bc355f5f",
   "metadata": {
    "vscode": {
     "languageId": "r"
    }
   },
   "outputs": [],
   "source": [
    "# Instalación y configuración de paquetes básicos\n",
    "# Solo ejecutar si es necesario\n",
    "\n",
    "# Verificar e instalar paquetes requeridos\n",
    "paquetes_requeridos <- c(\"dplyr\", \"ggplot2\", \"randomForest\", \"caret\", \"pROC\", \"corrplot\")\n",
    "\n",
    "for(paquete in paquetes_requeridos) {\n",
    "  if (!require(paquete, character.only = TRUE, quietly = TRUE)) {\n",
    "    cat(\"Instalando paquete:\", paquete, \"\\n\")\n",
    "    install.packages(paquete, repos = \"https://cran.rstudio.com/\")\n",
    "  }\n",
    "}\n",
    "\n",
    "# Instalar fluidsynth desde r-universe\n",
    "if (!require(\"fluidsynth\", quietly = TRUE)) {\n",
    "  cat(\"Instalando fluidsynth desde r-universe...\\n\")\n",
    "  install.packages(\"fluidsynth\", repos = \"https://ropensci.r-universe.dev\")\n",
    "}\n",
    "\n",
    "cat(\"✅ Todos los paquetes están listos\\n\")"
   ]
  },
  {
   "cell_type": "code",
   "execution_count": null,
   "id": "becf308a",
   "metadata": {
    "vscode": {
     "languageId": "r"
    }
   },
   "outputs": [],
   "source": [
    "# Cargar librerías principales\n",
    "suppressPackageStartupMessages({\n",
    "  library(fluidsynth)\n",
    "  library(dplyr)\n",
    "})\n",
    "\n",
    "cat(\"✅ Librerías básicas cargadas:\\n\")\n",
    "cat(\"- fluidsynth: para lectura de archivos MIDI\\n\")\n",
    "cat(\"- dplyr: para manipulación de datos\\n\")"
   ]
  },
  {
   "cell_type": "code",
   "execution_count": null,
   "id": "9c5cb98e",
   "metadata": {
    "vscode": {
     "languageId": "r"
    }
   },
   "outputs": [],
   "source": [
    "# Verificar que los archivos de datos existen\n",
    "archivos_datos <- c(\"analisis_completo_notas.csv\", \"notas_desafinadas_detectadas.csv\")\n",
    "\n",
    "todos_existen <- TRUE\n",
    "for(archivo in archivos_datos) {\n",
    "  if (file.exists(archivo)) {\n",
    "    cat(\"✅\", archivo, \"encontrado\\n\")\n",
    "  } else {\n",
    "    cat(\"❌\", archivo, \"NO encontrado\\n\")\n",
    "    todos_existen <- FALSE\n",
    "  }\n",
    "}\n",
    "\n",
    "if (!todos_existen) {\n",
    "  cat(\"\\n⚠️  Algunos archivos de datos no existen.\\n\")\n",
    "  cat(\"   Ejecuta primero el script 'proto2.R' para generar los datos necesarios.\\n\")\n",
    "  cat(\"   Comando: Rscript proto2.R\\n\")\n",
    "} else {\n",
    "  cat(\"\\n✅ Todos los archivos de datos están disponibles\\n\")\n",
    "}"
   ]
  },
  {
   "cell_type": "code",
   "execution_count": null,
   "id": "4012f72c",
   "metadata": {
    "vscode": {
     "languageId": "r"
    }
   },
   "outputs": [],
   "source": [
    "# Leer el archivo MIDI y convertirlo en dataframe\n",
    "# Solo ejecutar si los archivos de datos no existen\n",
    "\n",
    "if (file.exists(\"mz_311_1.mid\") && !file.exists(\"analisis_completo_notas.csv\")) {\n",
    "  cat(\"Leyendo archivo MIDI...\\n\")\n",
    "  midi_df <- midi_read(\"mz_311_1.mid\")\n",
    "  cat(\"✅ Archivo MIDI cargado:\", nrow(midi_df), \"eventos\\n\")\n",
    "  cat(\"Estructura del archivo MIDI:\\n\")\n",
    "  str(midi_df)\n",
    "} else if (file.exists(\"analisis_completo_notas.csv\")) {\n",
    "  cat(\"✅ Los datos ya han sido procesados. Usar archivos CSV existentes.\\n\")\n",
    "} else {\n",
    "  cat(\"❌ Archivo MIDI 'mz_311_1.mid' no encontrado\\n\")\n",
    "}"
   ]
  },
  {
   "cell_type": "code",
   "execution_count": null,
   "id": "f6a0e4cb",
   "metadata": {
    "vscode": {
     "languageId": "r"
    }
   },
   "outputs": [],
   "source": [
    "# Filtrar el dataframe y quedarse sólo con los eventos de notas\n",
    "ev_notes <- midi_df %>%\n",
    "  dplyr::filter(event %in% c(\"NOTE_ON\", \"NOTE_OFF\")) %>%\n",
    "  dplyr::mutate(\n",
    "    is_on  = (event == \"NOTE_ON\"  & param2 > 0),\n",
    "    is_off = (event == \"NOTE_OFF\" | (event == \"NOTE_ON\" & param2 == 0))\n",
    "  ) %>%\n",
    "  dplyr::arrange(channel, param1, tick)   # ordenar por canal, pitch y tiempo\n",
    "\n",
    "head(ev_notes)\n"
   ]
  },
  {
   "cell_type": "code",
   "execution_count": null,
   "id": "3128a9e3",
   "metadata": {
    "vscode": {
     "languageId": "r"
    }
   },
   "outputs": [],
   "source": [
    "# 3) Reconstruir las notas: para cada ON buscar el primer OFF posterior\n",
    "notes <- ev_notes %>%\n",
    "  dplyr::group_by(channel, pitch = param1) %>%\n",
    "  dplyr::arrange(tick, .by_group = TRUE) %>%\n",
    "  reframe({\n",
    "    on_idx  <- which(is_on)   # posiciones de filas donde la nota se prendió\n",
    "    off_idx <- which(is_off)  # posiciones de filas donde la nota se apagó\n",
    "    \n",
    "    if (length(on_idx) == 0) return(NULL)\n",
    "    \n",
    "    rows <- lapply(on_idx, function(i){\n",
    "      # buscar el primer \"apagado\" después de este \"encendido\"\n",
    "      k_rel <- which(off_idx > i)[1]   # índice relativo dentro de off_idx\n",
    "      if (is.na(k_rel)) return(NULL)   # no hay OFF posterior, se descarta esa nota\n",
    "      j <- off_idx[k_rel]              # índice absoluto de ese OFF en el dataframe del grupo\n",
    "      \n",
    "      tibble(\n",
    "        tick_on  = tick[i],\n",
    "        tick_off = tick[j],\n",
    "        dur_ticks = tick[j] - tick[i],\n",
    "        velocity  = param2[i]\n",
    "      )\n",
    "    })\n",
    "    bind_rows(rows)\n",
    "  }) %>%\n",
    "  dplyr::ungroup()\n",
    "\n",
    "head(notes)\n"
   ]
  },
  {
   "cell_type": "code",
   "execution_count": null,
   "id": "727d8d3d",
   "metadata": {
    "vscode": {
     "languageId": "r"
    }
   },
   "outputs": [],
   "source": [
    "# Resumir la pieza en una sola fila para entrenar al modelo\n",
    "features <- notes %>%\n",
    "  summarise(\n",
    "    pitch_mean = mean(pitch, na.rm = TRUE),  # promedio de altura\n",
    "    pitch_sd   = sd(pitch, na.rm = TRUE),    # cuánto varían las alturas\n",
    "    vel_mean   = mean(velocity, na.rm = TRUE),  # intensidad media\n",
    "    vel_sd     = sd(velocity, na.rm = TRUE),    # variación de intensidades\n",
    "    dur_mean   = mean(dur_ticks, na.rm = TRUE), # duración promedio de las notas\n",
    "    dur_sd     = sd(dur_ticks, na.rm = TRUE),   # variación de duraciones\n",
    "    n_notes    = dplyr::n()                     # cantidad total de notas reconstruidas\n",
    "  )\n",
    "\n",
    "features\n"
   ]
  },
  {
   "cell_type": "markdown",
   "id": "6091d56f",
   "metadata": {},
   "source": [
    "### Nota opcional sobre *pitch bend*\n",
    "Si tu dataframe `midi_df` incluye eventos de **pitch bend** (a veces etiquetados como `PITCH_BEND`, `PITCHWHEEL`, o similares), podés agregarlos en un flujo aparte y fusionarlos luego por canal/tiempo si necesitás capturar desafinaciones microtonales.\n"
   ]
  },
  {
   "cell_type": "code",
   "execution_count": null,
   "id": "46dd2835",
   "metadata": {
    "vscode": {
     "languageId": "r"
    }
   },
   "outputs": [],
   "source": [
    "# Cargar datos generados por nuestro análisis\n",
    "notas_completas <- read.csv(\"analisis_completo_notas.csv\")\n",
    "notas_sospechosas <- read.csv(\"notas_desafinadas_detectadas.csv\")\n",
    "\n",
    "# Verificar estructura de los datos\n",
    "cat(\"=== ESTRUCTURA DE LOS DATOS ===\\n\")\n",
    "cat(\"Dimensiones dataset completo:\", dim(notas_completas), \"\\n\")\n",
    "cat(\"Dimensiones dataset sospechosas:\", dim(notas_sospechosas), \"\\n\")\n",
    "\n",
    "# Ver primeras filas\n",
    "head(notas_completas)"
   ]
  },
  {
   "cell_type": "markdown",
   "id": "38eb913f",
   "metadata": {},
   "source": [
    "# Análisis Exploratorio de Datos (EDA)\n",
    "\n",
    "Vamos a explorar los datos generados por nuestro análisis de MIDI para entender mejor las características de las notas y las que fueron marcadas como sospechosas."
   ]
  },
  {
   "cell_type": "code",
   "execution_count": null,
   "id": "e5351f68",
   "metadata": {
    "vscode": {
     "languageId": "r"
    }
   },
   "outputs": [],
   "source": [
    "# Instalar paquetes necesarios para visualizaciones y ML\n",
    "if (!require(ggplot2)) install.packages(\"ggplot2\")\n",
    "if (!require(randomForest)) install.packages(\"randomForest\")\n",
    "if (!require(corrplot)) install.packages(\"corrplot\")\n",
    "if (!require(caret)) install.packages(\"caret\")\n",
    "if (!require(pROC)) install.packages(\"pROC\")\n",
    "\n",
    "library(ggplot2)\n",
    "library(randomForest)\n",
    "library(corrplot)\n",
    "library(caret)\n",
    "library(pROC)"
   ]
  },
  {
   "cell_type": "markdown",
   "id": "15496ea0",
   "metadata": {},
   "source": [
    "## 1. Estadísticas Descriptivas Básicas"
   ]
  },
  {
   "cell_type": "code",
   "execution_count": null,
   "id": "b6d98eb5",
   "metadata": {
    "vscode": {
     "languageId": "r"
    }
   },
   "outputs": [],
   "source": [
    "# Crear variable target (1 = sospechosa, 0 = normal)\n",
    "notas_completas$es_sospechosa <- ifelse(\n",
    "  notas_completas$fuera_escala_mayor & notas_completas$fuera_escala_menor |\n",
    "  notas_completas$duracion_muy_corta |\n",
    "  notas_completas$velocidad_anomala |\n",
    "  notas_completas$intervalo_disonante, 1, 0\n",
    ")\n",
    "\n",
    "# Estadísticas básicas\n",
    "cat(\"=== ESTADÍSTICAS DESCRIPTIVAS ===\\n\")\n",
    "cat(\"Total de notas:\", nrow(notas_completas), \"\\n\")\n",
    "cat(\"Notas sospechosas:\", sum(notas_completas$es_sospechosa), \"\\n\")\n",
    "cat(\"Porcentaje sospechosas:\", round(mean(notas_completas$es_sospechosa) * 100, 2), \"%\\n\\n\")\n",
    "\n",
    "# Resumen por variables numéricas\n",
    "variables_numericas <- c(\"pitch\", \"dur_ticks\", \"velocity\", \"tick_on\", \"tick_off\")\n",
    "for(var in variables_numericas) {\n",
    "  cat(\"--- Variable:\", var, \"---\\n\")\n",
    "  cat(\"Normal - Media:\", round(mean(notas_completas[notas_completas$es_sospechosa == 0, var], na.rm = TRUE), 2), \n",
    "      \"SD:\", round(sd(notas_completas[notas_completas$es_sospechosa == 0, var], na.rm = TRUE), 2), \"\\n\")\n",
    "  cat(\"Sospechosa - Media:\", round(mean(notas_completas[notas_completas$es_sospechosa == 1, var], na.rm = TRUE), 2), \n",
    "      \"SD:\", round(sd(notas_completas[notas_completas$es_sospechosa == 1, var], na.rm = TRUE), 2), \"\\n\\n\")\n",
    "}"
   ]
  },
  {
   "cell_type": "markdown",
   "id": "3c70e357",
   "metadata": {},
   "source": [
    "## 2. Visualizaciones Exploratorias"
   ]
  },
  {
   "cell_type": "code",
   "execution_count": null,
   "id": "268384fe",
   "metadata": {
    "vscode": {
     "languageId": "r"
    }
   },
   "outputs": [],
   "source": [
    "# Distribución de pitch por tipo de nota\n",
    "p1 <- ggplot(notas_completas, aes(x = pitch, fill = factor(es_sospechosa))) +\n",
    "  geom_histogram(bins = 50, alpha = 0.7, position = \"identity\") +\n",
    "  scale_fill_manual(values = c(\"0\" = \"lightblue\", \"1\" = \"salmon\"), \n",
    "                    labels = c(\"Normal\", \"Sospechosa\")) +\n",
    "  labs(title = \"Distribución de Pitch por Tipo de Nota\",\n",
    "       x = \"Pitch (MIDI)\", y = \"Frecuencia\", fill = \"Tipo\") +\n",
    "  theme_minimal()\n",
    "\n",
    "print(p1)"
   ]
  },
  {
   "cell_type": "code",
   "execution_count": null,
   "id": "07508eb7",
   "metadata": {
    "vscode": {
     "languageId": "r"
    }
   },
   "outputs": [],
   "source": [
    "# Distribución de velocidad por tipo de nota\n",
    "p2 <- ggplot(notas_completas, aes(x = velocity, fill = factor(es_sospechosa))) +\n",
    "  geom_histogram(bins = 30, alpha = 0.7, position = \"identity\") +\n",
    "  scale_fill_manual(values = c(\"0\" = \"lightblue\", \"1\" = \"salmon\"), \n",
    "                    labels = c(\"Normal\", \"Sospechosa\")) +\n",
    "  labs(title = \"Distribución de Velocidad por Tipo de Nota\",\n",
    "       x = \"Velocidad\", y = \"Frecuencia\", fill = \"Tipo\") +\n",
    "  theme_minimal()\n",
    "\n",
    "print(p2)"
   ]
  },
  {
   "cell_type": "code",
   "execution_count": null,
   "id": "9b65a80a",
   "metadata": {
    "vscode": {
     "languageId": "r"
    }
   },
   "outputs": [],
   "source": [
    "# Distribución de duración por tipo de nota\n",
    "p3 <- ggplot(notas_completas, aes(x = dur_ticks, fill = factor(es_sospechosa))) +\n",
    "  geom_histogram(bins = 50, alpha = 0.7, position = \"identity\") +\n",
    "  scale_fill_manual(values = c(\"0\" = \"lightblue\", \"1\" = \"salmon\"), \n",
    "                    labels = c(\"Normal\", \"Sospechosa\")) +\n",
    "  labs(title = \"Distribución de Duración por Tipo de Nota\",\n",
    "       x = \"Duración (ticks)\", y = \"Frecuencia\", fill = \"Tipo\") +\n",
    "  xlim(0, 2000) +  # Limitar para mejor visualización\n",
    "  theme_minimal()\n",
    "\n",
    "print(p3)"
   ]
  },
  {
   "cell_type": "code",
   "execution_count": null,
   "id": "89e6924e",
   "metadata": {
    "vscode": {
     "languageId": "r"
    }
   },
   "outputs": [],
   "source": [
    "# Boxplots comparativos\n",
    "p4 <- ggplot(notas_completas, aes(x = factor(es_sospechosa), y = pitch, fill = factor(es_sospechosa))) +\n",
    "  geom_boxplot(alpha = 0.7) +\n",
    "  scale_fill_manual(values = c(\"0\" = \"lightblue\", \"1\" = \"salmon\"), \n",
    "                    labels = c(\"Normal\", \"Sospechosa\")) +\n",
    "  scale_x_discrete(labels = c(\"Normal\", \"Sospechosa\")) +\n",
    "  labs(title = \"Comparación de Pitch: Normal vs Sospechosa\",\n",
    "       x = \"Tipo de Nota\", y = \"Pitch (MIDI)\", fill = \"Tipo\") +\n",
    "  theme_minimal()\n",
    "\n",
    "print(p4)"
   ]
  },
  {
   "cell_type": "code",
   "execution_count": null,
   "id": "a2db7be4",
   "metadata": {
    "vscode": {
     "languageId": "r"
    }
   },
   "outputs": [],
   "source": [
    "# Matriz de correlación de variables numéricas\n",
    "vars_numericas <- notas_completas[, c(\"pitch\", \"dur_ticks\", \"velocity\", \"tick_on\", \"es_sospechosa\")]\n",
    "matriz_corr <- cor(vars_numericas, use = \"complete.obs\")\n",
    "\n",
    "# Visualizar matriz de correlación\n",
    "corrplot(matriz_corr, method = \"color\", type = \"upper\", \n",
    "         order = \"hclust\", tl.cex = 0.8, tl.col = \"black\")\n",
    "cat(\"Matriz de correlación calculada y visualizada\\n\")"
   ]
  },
  {
   "cell_type": "markdown",
   "id": "5ce3d760",
   "metadata": {},
   "source": [
    "## 3. Análisis de Criterios de Detección"
   ]
  },
  {
   "cell_type": "code",
   "execution_count": null,
   "id": "5399c019",
   "metadata": {
    "vscode": {
     "languageId": "r"
    }
   },
   "outputs": [],
   "source": [
    "# Análisis de cada criterio de detección\n",
    "criterios <- c(\"fuera_escala_mayor\", \"fuera_escala_menor\", \"duracion_muy_corta\", \n",
    "               \"velocidad_anomala\", \"intervalo_disonante\")\n",
    "\n",
    "cat(\"=== ANÁLISIS POR CRITERIOS ===\\n\")\n",
    "for(criterio in criterios) {\n",
    "  if(criterio %in% names(notas_completas)) {\n",
    "    count_true <- sum(notas_completas[[criterio]], na.rm = TRUE)\n",
    "    pct_true <- round(mean(notas_completas[[criterio]], na.rm = TRUE) * 100, 2)\n",
    "    cat(sprintf(\"%-20s: %4d notas (%.2f%%)\\n\", criterio, count_true, pct_true))\n",
    "  }\n",
    "}\n",
    "\n",
    "# Tabla de contingencia entre criterios principales\n",
    "cat(\"\\n=== SOLAPAMIENTO ENTRE CRITERIOS ===\\n\")\n",
    "tabla_criterios <- table(\n",
    "  Escala = notas_completas$fuera_escala_mayor & notas_completas$fuera_escala_menor,\n",
    "  Velocidad = notas_completas$velocidad_anomala,\n",
    "  Intervalos = notas_completas$intervalo_disonante\n",
    ")\n",
    "print(tabla_criterios)"
   ]
  },
  {
   "cell_type": "markdown",
   "id": "f576f2a7",
   "metadata": {},
   "source": [
    "# Modelo de Machine Learning - Random Forest\n",
    "\n",
    "## 4. Preparación de Datos para ML\n",
    "\n",
    "Para entrenar el modelo, vamos a usar diferentes estrategias de partición de datos:"
   ]
  },
  {
   "cell_type": "code",
   "execution_count": null,
   "id": "83cb632a",
   "metadata": {
    "vscode": {
     "languageId": "r"
    }
   },
   "outputs": [],
   "source": [
    "# Estrategias de partición de datos propuestas:\n",
    "\n",
    "cat(\"=== ESTRATEGIAS DE PARTICIÓN PROPUESTAS ===\\n\\n\")\n",
    "\n",
    "cat(\"1. PARTICIÓN TEMPORAL:\\n\")\n",
    "cat(\"   - Entrenar con primeros 70% de la pieza (por tiempo)\\n\")\n",
    "cat(\"   - Validar con últimos 30%\\n\")\n",
    "cat(\"   - Simula predecir desafinaciones en tiempo real\\n\\n\")\n",
    "\n",
    "cat(\"2. PARTICIÓN ALEATORIA:\\n\")\n",
    "cat(\"   - Mezclar todas las notas y dividir 70/30\\n\")\n",
    "cat(\"   - Estratificada por clase (sospechosa/normal)\\n\")\n",
    "cat(\"   - Evaluación general del modelo\\n\\n\")\n",
    "\n",
    "cat(\"3. PARTICIÓN POR CANAL:\\n\")\n",
    "cat(\"   - Entrenar con algunos canales, validar con otros\\n\")\n",
    "cat(\"   - Evalúa generalización entre instrumentos\\n\\n\")\n",
    "\n",
    "cat(\"4. VALIDACIÓN CRUZADA:\\n\")\n",
    "cat(\"   - K-fold cross-validation\\n\")\n",
    "cat(\"   - Estimación robusta del rendimiento\\n\\n\")\n",
    "\n",
    "# Implementaremos las estrategias 1, 2 y 4"
   ]
  },
  {
   "cell_type": "code",
   "execution_count": null,
   "id": "727c0289",
   "metadata": {
    "vscode": {
     "languageId": "r"
    }
   },
   "outputs": [],
   "source": [
    "# Preparar datos para ML\n",
    "# Variables predictoras\n",
    "predictoras <- c(\"pitch\", \"dur_ticks\", \"velocity\", \"tick_on\", \"channel\", \"clase_pitch\")\n",
    "\n",
    "# Crear features adicionales\n",
    "notas_ml <- notas_completas %>%\n",
    "  mutate(\n",
    "    # Features temporales\n",
    "    posicion_relativa = (tick_on - min(tick_on)) / (max(tick_on) - min(tick_on)),\n",
    "    \n",
    "    # Features de contexto musical\n",
    "    octava = floor(pitch / 12),\n",
    "    nota_en_octava = pitch %% 12,\n",
    "    \n",
    "    # Features de velocidad normalizada\n",
    "    velocidad_norm = scale(velocity)[,1],\n",
    "    \n",
    "    # Features de duración normalizada\n",
    "    duracion_norm = scale(dur_ticks)[,1],\n",
    "    \n",
    "    # Convertir target a factor\n",
    "    target = factor(es_sospechosa, levels = c(0, 1), labels = c(\"Normal\", \"Sospechosa\"))\n",
    "  ) %>%\n",
    "  select(all_of(predictoras), posicion_relativa, octava, nota_en_octava, \n",
    "         velocidad_norm, duracion_norm, target) %>%\n",
    "  na.omit()\n",
    "\n",
    "cat(\"Dataset para ML preparado:\\n\")\n",
    "cat(\"Dimensiones:\", dim(notas_ml), \"\\n\")\n",
    "cat(\"Variables predictoras:\", ncol(notas_ml) - 1, \"\\n\")\n",
    "table(notas_ml$target)"
   ]
  },
  {
   "cell_type": "markdown",
   "id": "a1536455",
   "metadata": {},
   "source": [
    "## 5. Estrategia 1: Partición Temporal"
   ]
  },
  {
   "cell_type": "code",
   "execution_count": null,
   "id": "64dbfe28",
   "metadata": {
    "vscode": {
     "languageId": "r"
    }
   },
   "outputs": [],
   "source": [
    "# ESTRATEGIA 1: Partición temporal\n",
    "set.seed(123)\n",
    "\n",
    "# Ordenar por tiempo y dividir temporalmente\n",
    "notas_ordenadas <- notas_ml %>% arrange(tick_on)\n",
    "punto_corte <- floor(nrow(notas_ordenadas) * 0.7)\n",
    "\n",
    "train_temporal <- notas_ordenadas[1:punto_corte, ]\n",
    "test_temporal <- notas_ordenadas[(punto_corte+1):nrow(notas_ordenadas), ]\n",
    "\n",
    "cat(\"=== PARTICIÓN TEMPORAL ===\\n\")\n",
    "cat(\"Entrenamiento:\", nrow(train_temporal), \"notas\\n\")\n",
    "cat(\"Prueba:\", nrow(test_temporal), \"notas\\n\")\n",
    "cat(\"Distribución train:\", table(train_temporal$target), \"\\n\")\n",
    "cat(\"Distribución test:\", table(test_temporal$target), \"\\n\")\n",
    "\n",
    "# Entrenar Random Forest\n",
    "rf_temporal <- randomForest(\n",
    "  target ~ . - tick_on,  # Excluir tick_on para evitar data leakage\n",
    "  data = train_temporal,\n",
    "  ntree = 500,\n",
    "  mtry = floor(sqrt(ncol(train_temporal) - 1)),\n",
    "  importance = TRUE\n",
    ")\n",
    "\n",
    "# Predicciones\n",
    "pred_temporal <- predict(rf_temporal, test_temporal)\n",
    "prob_temporal <- predict(rf_temporal, test_temporal, type = \"prob\")\n",
    "\n",
    "# Evaluación\n",
    "conf_temporal <- confusionMatrix(pred_temporal, test_temporal$target, positive = \"Sospechosa\")\n",
    "print(conf_temporal)"
   ]
  },
  {
   "cell_type": "markdown",
   "id": "5f9e4d96",
   "metadata": {},
   "source": [
    "## 6. Estrategia 2: Partición Aleatoria Estratificada"
   ]
  },
  {
   "cell_type": "code",
   "execution_count": null,
   "id": "db58c01c",
   "metadata": {
    "vscode": {
     "languageId": "r"
    }
   },
   "outputs": [],
   "source": [
    "# ESTRATEGIA 2: Partición aleatoria estratificada\n",
    "set.seed(123)\n",
    "\n",
    "# Crear partición estratificada\n",
    "train_indices <- createDataPartition(notas_ml$target, p = 0.7, list = FALSE)\n",
    "train_aleatorio <- notas_ml[train_indices, ]\n",
    "test_aleatorio <- notas_ml[-train_indices, ]\n",
    "\n",
    "cat(\"=== PARTICIÓN ALEATORIA ESTRATIFICADA ===\\n\")\n",
    "cat(\"Entrenamiento:\", nrow(train_aleatorio), \"notas\\n\")\n",
    "cat(\"Prueba:\", nrow(test_aleatorio), \"notas\\n\")\n",
    "cat(\"Distribución train:\", table(train_aleatorio$target), \"\\n\")\n",
    "cat(\"Distribución test:\", table(test_aleatorio$target), \"\\n\")\n",
    "\n",
    "# Entrenar Random Forest\n",
    "rf_aleatorio <- randomForest(\n",
    "  target ~ .,\n",
    "  data = train_aleatorio,\n",
    "  ntree = 500,\n",
    "  mtry = floor(sqrt(ncol(train_aleatorio) - 1)),\n",
    "  importance = TRUE\n",
    ")\n",
    "\n",
    "# Predicciones\n",
    "pred_aleatorio <- predict(rf_aleatorio, test_aleatorio)\n",
    "prob_aleatorio <- predict(rf_aleatorio, test_aleatorio, type = \"prob\")\n",
    "\n",
    "# Evaluación\n",
    "conf_aleatorio <- confusionMatrix(pred_aleatorio, test_aleatorio$target, positive = \"Sospechosa\")\n",
    "print(conf_aleatorio)"
   ]
  },
  {
   "cell_type": "markdown",
   "id": "f7153b25",
   "metadata": {},
   "source": [
    "## 7. Estrategia 3: Validación Cruzada"
   ]
  },
  {
   "cell_type": "code",
   "execution_count": null,
   "id": "9e29d940",
   "metadata": {
    "vscode": {
     "languageId": "r"
    }
   },
   "outputs": [],
   "source": [
    "# ESTRATEGIA 3: Validación cruzada 5-fold\n",
    "set.seed(123)\n",
    "\n",
    "# Configurar validación cruzada\n",
    "train_control <- trainControl(\n",
    "  method = \"cv\",\n",
    "  number = 5,\n",
    "  classProbs = TRUE,\n",
    "  summaryFunction = twoClassSummary,\n",
    "  savePredictions = \"final\"\n",
    ")\n",
    "\n",
    "# Entrenar con validación cruzada\n",
    "rf_cv <- train(\n",
    "  target ~ .,\n",
    "  data = notas_ml,\n",
    "  method = \"rf\",\n",
    "  trControl = train_control,\n",
    "  metric = \"ROC\",\n",
    "  ntree = 500,\n",
    "  importance = TRUE\n",
    ")\n",
    "\n",
    "cat(\"=== VALIDACIÓN CRUZADA 5-FOLD ===\\n\")\n",
    "print(rf_cv)\n",
    "print(rf_cv$results)"
   ]
  },
  {
   "cell_type": "markdown",
   "id": "83e5c105",
   "metadata": {},
   "source": [
    "## 8. Análisis de Importancia de Variables y Curvas ROC"
   ]
  },
  {
   "cell_type": "code",
   "execution_count": null,
   "id": "64b65d41",
   "metadata": {
    "vscode": {
     "languageId": "r"
    }
   },
   "outputs": [],
   "source": [
    "# Importancia de variables (modelo aleatorio)\n",
    "importance_data <- importance(rf_aleatorio)\n",
    "varImpPlot(rf_aleatorio, main = \"Importancia de Variables - Random Forest\")\n",
    "\n",
    "# Mostrar importancia numéricamente\n",
    "cat(\"=== IMPORTANCIA DE VARIABLES ===\\n\")\n",
    "importance_sorted <- importance_data[order(importance_data[,1], decreasing = TRUE), ]\n",
    "print(round(importance_sorted, 4))\n",
    "\n",
    "# Curvas ROC para cada estrategia\n",
    "cat(\"\\n=== CURVAS ROC ===\\n\")\n",
    "\n",
    "# ROC Partición Temporal\n",
    "roc_temporal <- roc(test_temporal$target, prob_temporal[,2])\n",
    "auc_temporal <- auc(roc_temporal)\n",
    "cat(\"AUC Partición Temporal:\", round(auc_temporal, 4), \"\\n\")\n",
    "\n",
    "# ROC Partición Aleatoria\n",
    "roc_aleatorio <- roc(test_aleatorio$target, prob_aleatorio[,2])\n",
    "auc_aleatorio <- auc(roc_aleatorio)\n",
    "cat(\"AUC Partición Aleatoria:\", round(auc_aleatorio, 4), \"\\n\")\n",
    "\n",
    "# Graficar ROCs\n",
    "plot(roc_temporal, col = \"blue\", main = \"Curvas ROC - Comparación de Estrategias\")\n",
    "plot(roc_aleatorio, col = \"red\", add = TRUE)\n",
    "legend(\"bottomright\", legend = c(\"Temporal\", \"Aleatoria\"), \n",
    "       col = c(\"blue\", \"red\"), lty = 1)"
   ]
  },
  {
   "cell_type": "markdown",
   "id": "fe69979d",
   "metadata": {},
   "source": [
    "## 9. Resumen de Resultados y Recomendaciones"
   ]
  },
  {
   "cell_type": "code",
   "execution_count": null,
   "id": "13cd3de5",
   "metadata": {
    "vscode": {
     "languageId": "r"
    }
   },
   "outputs": [],
   "source": [
    "# Resumen comparativo de todas las estrategias\n",
    "cat(\"=== RESUMEN COMPARATIVO DE MODELOS ===\\n\\n\")\n",
    "\n",
    "cat(\"1. PARTICIÓN TEMPORAL:\\n\")\n",
    "cat(\"   - Accuracy:\", round(conf_temporal$overall['Accuracy'], 4), \"\\n\")\n",
    "cat(\"   - Sensitivity:\", round(conf_temporal$byClass['Sensitivity'], 4), \"\\n\")\n",
    "cat(\"   - Specificity:\", round(conf_temporal$byClass['Specificity'], 4), \"\\n\")\n",
    "cat(\"   - AUC:\", round(auc_temporal, 4), \"\\n\")\n",
    "cat(\"   - Interpretación: Simula predicción en tiempo real\\n\\n\")\n",
    "\n",
    "cat(\"2. PARTICIÓN ALEATORIA:\\n\")\n",
    "cat(\"   - Accuracy:\", round(conf_aleatorio$overall['Accuracy'], 4), \"\\n\")\n",
    "cat(\"   - Sensitivity:\", round(conf_aleatorio$byClass['Sensitivity'], 4), \"\\n\")\n",
    "cat(\"   - Specificity:\", round(conf_aleatorio$byClass['Specificity'], 4), \"\\n\")\n",
    "cat(\"   - AUC:\", round(auc_aleatorio, 4), \"\\n\")\n",
    "cat(\"   - Interpretación: Evaluación general del modelo\\n\\n\")\n",
    "\n",
    "cat(\"3. VALIDACIÓN CRUZADA:\\n\")\n",
    "cat(\"   - ROC promedio:\", round(max(rf_cv$results$ROC), 4), \"\\n\")\n",
    "cat(\"   - Sensitivity promedio:\", round(max(rf_cv$results$Sens), 4), \"\\n\")\n",
    "cat(\"   - Specificity promedio:\", round(max(rf_cv$results$Spec), 4), \"\\n\")\n",
    "cat(\"   - Interpretación: Estimación más robusta del rendimiento\\n\\n\")\n",
    "\n",
    "# Guardar modelos y resultados\n",
    "save(rf_temporal, rf_aleatorio, rf_cv, file = \"modelos_random_forest.RData\")\n",
    "cat(\"✅ Modelos guardados en 'modelos_random_forest.RData'\\n\")\n",
    "\n",
    "# Guardar predicciones para análisis posterior\n",
    "resultados_ml <- data.frame(\n",
    "  estrategia = rep(c(\"temporal\", \"aleatorio\"), \n",
    "                   c(nrow(test_temporal), nrow(test_aleatorio))),\n",
    "  real = c(as.character(test_temporal$target), as.character(test_aleatorio$target)),\n",
    "  prediccion = c(as.character(pred_temporal), as.character(pred_aleatorio)),\n",
    "  probabilidad_sospechosa = c(prob_temporal[,2], prob_aleatorio[,2])\n",
    ")\n",
    "\n",
    "write.csv(resultados_ml, \"resultados_modelos_ml.csv\", row.names = FALSE)\n",
    "cat(\"✅ Resultados guardados en 'resultados_modelos_ml.csv'\\n\")"
   ]
  },
  {
   "cell_type": "markdown",
   "id": "37d72bd7",
   "metadata": {},
   "source": [
    "## Conclusiones del Análisis\n",
    "\n",
    "### Estrategias de Partición Implementadas:\n",
    "\n",
    "1. **Partición Temporal (70/30):**\n",
    "   - Simula un escenario realista donde el modelo aprende de la primera parte de una pieza y predice en la segunda\n",
    "   - Útil para aplicaciones en tiempo real\n",
    "   - Puede tener menor rendimiento si hay cambios de estilo durante la pieza\n",
    "\n",
    "2. **Partición Aleatoria Estratificada (70/30):**\n",
    "   - Evaluación estándar de ML que mezcla ejemplos de toda la pieza\n",
    "   - Proporciona una estimación optimista del rendimiento\n",
    "   - Mantiene la proporción de clases en train/test\n",
    "\n",
    "3. **Validación Cruzada 5-fold:**\n",
    "   - Estimación más robusta y confiable del rendimiento\n",
    "   - Reduce el sesgo de una sola partición\n",
    "   - Mejor para tomar decisiones sobre el modelo\n",
    "\n",
    "### Variables Más Importantes:\n",
    "- **Pitch y clase_pitch**: Altura de las notas\n",
    "- **Velocidad**: Intensidad de las notas\n",
    "- **Posición temporal**: Cuándo ocurre la nota en la pieza\n",
    "- **Duración**: Tiempo que dura cada nota\n",
    "\n",
    "### Aplicaciones Prácticas:\n",
    "- Detección automática de errores de interpretación\n",
    "- Asistente para profesores de música\n",
    "- Control de calidad en grabaciones MIDI\n",
    "- Análisis de estilo musical"
   ]
  },
  {
   "cell_type": "code",
   "execution_count": null,
   "id": "95f537c9-1bd4-46f0-9a07-e54e0fc0e00a",
   "metadata": {},
   "outputs": [],
   "source": []
  }
 ],
 "metadata": {
  "kernelspec": {
   "display_name": "R (r-jupyter311)",
   "language": "R",
   "name": "ir-r-jupyter311"
  },
  "language_info": {
   "codemirror_mode": "r",
   "file_extension": ".r",
   "mimetype": "text/x-r-source",
   "name": "R",
   "pygments_lexer": "r",
   "version": "4.5.1"
  }
 },
 "nbformat": 4,
 "nbformat_minor": 5
}
